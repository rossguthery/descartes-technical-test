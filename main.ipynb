{
 "cells": [
  {
   "cell_type": "markdown",
   "metadata": {},
   "source": [
    "# Data Scientist Technical Test\n",
    "\n",
    "Ross Guthery\n",
    "\n",
    "2 November 2022"
   ]
  },
  {
   "cell_type": "code",
   "execution_count": 1,
   "metadata": {},
   "outputs": [
    {
     "name": "stderr",
     "output_type": "stream",
     "text": [
      "/Users/rossguthery/opt/anaconda3/lib/python3.9/site-packages/xgboost/compat.py:36: FutureWarning: pandas.Int64Index is deprecated and will be removed from pandas in a future version. Use pandas.Index with the appropriate dtype instead.\n",
      "  from pandas import MultiIndex, Int64Index\n"
     ]
    }
   ],
   "source": [
    "# Import packages.\n",
    "import pandas as pd\n",
    "import seaborn as sns\n",
    "import matplotlib.pyplot as plt\n",
    "from toolbox import Data, FeatureEngineerer, Modeller\n",
    "\n",
    "# Standardize figure size.\n",
    "plt.rcParams[\"figure.figsize\"] = (10, 8)"
   ]
  },
  {
   "cell_type": "markdown",
   "metadata": {},
   "source": [
    "### 1. Data Collection and Cleaning"
   ]
  },
  {
   "cell_type": "markdown",
   "metadata": {},
   "source": [
    "To manage the reading in and cleaning of the data needed to complete this test, I wrote a class called ```Data```. Data collection is obviously straightforward. Data cleaning, however, isn't. The class's private ```clean_data``` function retitles the columns so they are easier to understand, drops columns I either can't use or don't understand, and removes unecessary characters like \"_z\", \"<\", \"$\", and \",\" from the entries themselves. Furthermore, it ensures each column is the appropriate data type and replaces boolean values like \"yes\" and \"no\" with more usable values like ones and zeros. As an aside, it's during this step that I drop the one outlier I found, which is a negative car age. I also drop the only duplicate row I stumbled upon. (I only carry out the last two steps on the training data.)"
   ]
  },
  {
   "cell_type": "code",
   "execution_count": 2,
   "metadata": {},
   "outputs": [],
   "source": [
    "# Instantiate a Data object for the test and train sets.\n",
    "test_data: Data = Data(\n",
    "    train=False, file_path=\"data/test_auto.csv\", index_col=0\n",
    ")\n",
    "train_data: Data = Data(\n",
    "    train=True, file_path=\"data/train_auto.csv\", index_col=0\n",
    ")"
   ]
  },
  {
   "cell_type": "code",
   "execution_count": 3,
   "metadata": {},
   "outputs": [],
   "source": [
    "# Call the test and train set Data objects. Doing so fetches the data and cleans\n",
    "# it in the way outlined above.\n",
    "test_data()\n",
    "train_data()"
   ]
  },
  {
   "cell_type": "code",
   "execution_count": 4,
   "metadata": {},
   "outputs": [
    {
     "data": {
      "text/html": [
       "<div>\n",
       "<style scoped>\n",
       "    .dataframe tbody tr th:only-of-type {\n",
       "        vertical-align: middle;\n",
       "    }\n",
       "\n",
       "    .dataframe tbody tr th {\n",
       "        vertical-align: top;\n",
       "    }\n",
       "\n",
       "    .dataframe thead th {\n",
       "        text-align: right;\n",
       "    }\n",
       "</style>\n",
       "<table border=\"1\" class=\"dataframe\">\n",
       "  <thead>\n",
       "    <tr style=\"text-align: right;\">\n",
       "      <th></th>\n",
       "      <th>train_nulls</th>\n",
       "      <th>test_nulls</th>\n",
       "    </tr>\n",
       "  </thead>\n",
       "  <tbody>\n",
       "    <tr>\n",
       "      <th>target_flag</th>\n",
       "      <td>0</td>\n",
       "      <td>2141</td>\n",
       "    </tr>\n",
       "    <tr>\n",
       "      <th>num_kids_driving</th>\n",
       "      <td>0</td>\n",
       "      <td>0</td>\n",
       "    </tr>\n",
       "    <tr>\n",
       "      <th>age</th>\n",
       "      <td>6</td>\n",
       "      <td>1</td>\n",
       "    </tr>\n",
       "    <tr>\n",
       "      <th>num_kids_home</th>\n",
       "      <td>0</td>\n",
       "      <td>0</td>\n",
       "    </tr>\n",
       "    <tr>\n",
       "      <th>income</th>\n",
       "      <td>413</td>\n",
       "      <td>125</td>\n",
       "    </tr>\n",
       "    <tr>\n",
       "      <th>is_single_parent</th>\n",
       "      <td>0</td>\n",
       "      <td>0</td>\n",
       "    </tr>\n",
       "    <tr>\n",
       "      <th>home_value</th>\n",
       "      <td>428</td>\n",
       "      <td>111</td>\n",
       "    </tr>\n",
       "    <tr>\n",
       "      <th>is_married</th>\n",
       "      <td>0</td>\n",
       "      <td>0</td>\n",
       "    </tr>\n",
       "    <tr>\n",
       "      <th>is_female</th>\n",
       "      <td>0</td>\n",
       "      <td>0</td>\n",
       "    </tr>\n",
       "    <tr>\n",
       "      <th>education</th>\n",
       "      <td>0</td>\n",
       "      <td>0</td>\n",
       "    </tr>\n",
       "    <tr>\n",
       "      <th>job</th>\n",
       "      <td>488</td>\n",
       "      <td>139</td>\n",
       "    </tr>\n",
       "    <tr>\n",
       "      <th>travel_time</th>\n",
       "      <td>0</td>\n",
       "      <td>0</td>\n",
       "    </tr>\n",
       "    <tr>\n",
       "      <th>for_commercial_use</th>\n",
       "      <td>0</td>\n",
       "      <td>0</td>\n",
       "    </tr>\n",
       "    <tr>\n",
       "      <th>bluebook_value</th>\n",
       "      <td>0</td>\n",
       "      <td>0</td>\n",
       "    </tr>\n",
       "    <tr>\n",
       "      <th>car_type</th>\n",
       "      <td>0</td>\n",
       "      <td>0</td>\n",
       "    </tr>\n",
       "    <tr>\n",
       "      <th>is_red_car</th>\n",
       "      <td>0</td>\n",
       "      <td>0</td>\n",
       "    </tr>\n",
       "    <tr>\n",
       "      <th>last_claim_value</th>\n",
       "      <td>0</td>\n",
       "      <td>0</td>\n",
       "    </tr>\n",
       "    <tr>\n",
       "      <th>claim_frequency</th>\n",
       "      <td>0</td>\n",
       "      <td>0</td>\n",
       "    </tr>\n",
       "    <tr>\n",
       "      <th>was_revoked</th>\n",
       "      <td>0</td>\n",
       "      <td>0</td>\n",
       "    </tr>\n",
       "    <tr>\n",
       "      <th>car_age</th>\n",
       "      <td>0</td>\n",
       "      <td>129</td>\n",
       "    </tr>\n",
       "    <tr>\n",
       "      <th>is_urban</th>\n",
       "      <td>0</td>\n",
       "      <td>0</td>\n",
       "    </tr>\n",
       "  </tbody>\n",
       "</table>\n",
       "</div>"
      ],
      "text/plain": [
       "                    train_nulls  test_nulls\n",
       "target_flag                   0        2141\n",
       "num_kids_driving              0           0\n",
       "age                           6           1\n",
       "num_kids_home                 0           0\n",
       "income                      413         125\n",
       "is_single_parent              0           0\n",
       "home_value                  428         111\n",
       "is_married                    0           0\n",
       "is_female                     0           0\n",
       "education                     0           0\n",
       "job                         488         139\n",
       "travel_time                   0           0\n",
       "for_commercial_use            0           0\n",
       "bluebook_value                0           0\n",
       "car_type                      0           0\n",
       "is_red_car                    0           0\n",
       "last_claim_value              0           0\n",
       "claim_frequency               0           0\n",
       "was_revoked                   0           0\n",
       "car_age                       0         129\n",
       "is_urban                      0           0"
      ]
     },
     "execution_count": 4,
     "metadata": {},
     "output_type": "execute_result"
    }
   ],
   "source": [
    "# Display where the null values are in the test and train sets.\n",
    "pd.concat(\n",
    "    objs=[train_data.data.isnull().sum(), test_data.data.isnull().sum()],\n",
    "    keys=['train_nulls', 'test_nulls'],\n",
    "    axis=1,\n",
    ")"
   ]
  },
  {
   "cell_type": "markdown",
   "metadata": {},
   "source": [
    "I spent a fair amount of time reflecting upon how to best manage the null values that appear in the age, job, income, car age, and home value columns of the data sets. In the end, I decided to proceed as follows. First, I replaced the null values in the age and car age columns with the mean of said columns as the mean and median of each are less than one year apart. Next, I removed rows with null values in the job column as the average income earned by blue collar workers, the most common occupation, does not align with the average income earned by those whose occupation isn't listed ($59,282 vs. $118,457). Moreover, the standard deviation of the latter group's income distribution is $58,834, which essentially means that five of the eight possible occupations are within one standard deviation of the their average income. Furthermore, I also removed rows with null values in either the income or home value columns as, in my opinion, inferring a value for either could portend a gross misjudgement on our part. An income of zero could mean that someone is unemployed, just as a home value of zero could mean that someone is a renter. In other words, it would be unjust to make an assumption here. The final component of this step consisted of removing null values in the test set's target column. (It's obvious why we don't have any data here.)"
   ]
  },
  {
   "cell_type": "code",
   "execution_count": 5,
   "metadata": {},
   "outputs": [],
   "source": [
    "# Drop null values in the test and train sets according to the strategy above.\n",
    "test_data.deal_with_nulls()\n",
    "train_data.deal_with_nulls()"
   ]
  },
  {
   "cell_type": "code",
   "execution_count": 6,
   "metadata": {},
   "outputs": [
    {
     "data": {
      "text/html": [
       "<div>\n",
       "<style scoped>\n",
       "    .dataframe tbody tr th:only-of-type {\n",
       "        vertical-align: middle;\n",
       "    }\n",
       "\n",
       "    .dataframe tbody tr th {\n",
       "        vertical-align: top;\n",
       "    }\n",
       "\n",
       "    .dataframe thead th {\n",
       "        text-align: right;\n",
       "    }\n",
       "</style>\n",
       "<table border=\"1\" class=\"dataframe\">\n",
       "  <thead>\n",
       "    <tr style=\"text-align: right;\">\n",
       "      <th></th>\n",
       "      <th>target_flag</th>\n",
       "      <th>num_kids_driving</th>\n",
       "      <th>age</th>\n",
       "      <th>num_kids_home</th>\n",
       "      <th>income</th>\n",
       "      <th>is_single_parent</th>\n",
       "      <th>home_value</th>\n",
       "      <th>is_married</th>\n",
       "      <th>is_female</th>\n",
       "      <th>education</th>\n",
       "      <th>...</th>\n",
       "      <th>travel_time</th>\n",
       "      <th>for_commercial_use</th>\n",
       "      <th>bluebook_value</th>\n",
       "      <th>car_type</th>\n",
       "      <th>is_red_car</th>\n",
       "      <th>last_claim_value</th>\n",
       "      <th>claim_frequency</th>\n",
       "      <th>was_revoked</th>\n",
       "      <th>car_age</th>\n",
       "      <th>is_urban</th>\n",
       "    </tr>\n",
       "  </thead>\n",
       "  <tbody>\n",
       "    <tr>\n",
       "      <th>0</th>\n",
       "      <td>0</td>\n",
       "      <td>0</td>\n",
       "      <td>60.0</td>\n",
       "      <td>0</td>\n",
       "      <td>67349.0</td>\n",
       "      <td>0</td>\n",
       "      <td>0.0</td>\n",
       "      <td>0</td>\n",
       "      <td>0</td>\n",
       "      <td>phd</td>\n",
       "      <td>...</td>\n",
       "      <td>14</td>\n",
       "      <td>0</td>\n",
       "      <td>14230</td>\n",
       "      <td>minivan</td>\n",
       "      <td>1</td>\n",
       "      <td>4461</td>\n",
       "      <td>2</td>\n",
       "      <td>0</td>\n",
       "      <td>18.0</td>\n",
       "      <td>1</td>\n",
       "    </tr>\n",
       "    <tr>\n",
       "      <th>1</th>\n",
       "      <td>0</td>\n",
       "      <td>0</td>\n",
       "      <td>43.0</td>\n",
       "      <td>0</td>\n",
       "      <td>91449.0</td>\n",
       "      <td>0</td>\n",
       "      <td>257252.0</td>\n",
       "      <td>0</td>\n",
       "      <td>0</td>\n",
       "      <td>high_school</td>\n",
       "      <td>...</td>\n",
       "      <td>22</td>\n",
       "      <td>1</td>\n",
       "      <td>14940</td>\n",
       "      <td>minivan</td>\n",
       "      <td>1</td>\n",
       "      <td>0</td>\n",
       "      <td>0</td>\n",
       "      <td>0</td>\n",
       "      <td>1.0</td>\n",
       "      <td>1</td>\n",
       "    </tr>\n",
       "    <tr>\n",
       "      <th>2</th>\n",
       "      <td>0</td>\n",
       "      <td>0</td>\n",
       "      <td>35.0</td>\n",
       "      <td>1</td>\n",
       "      <td>16039.0</td>\n",
       "      <td>0</td>\n",
       "      <td>124191.0</td>\n",
       "      <td>1</td>\n",
       "      <td>1</td>\n",
       "      <td>high_school</td>\n",
       "      <td>...</td>\n",
       "      <td>5</td>\n",
       "      <td>0</td>\n",
       "      <td>4010</td>\n",
       "      <td>suv</td>\n",
       "      <td>0</td>\n",
       "      <td>38690</td>\n",
       "      <td>2</td>\n",
       "      <td>0</td>\n",
       "      <td>10.0</td>\n",
       "      <td>1</td>\n",
       "    </tr>\n",
       "    <tr>\n",
       "      <th>4</th>\n",
       "      <td>0</td>\n",
       "      <td>0</td>\n",
       "      <td>50.0</td>\n",
       "      <td>0</td>\n",
       "      <td>114986.0</td>\n",
       "      <td>0</td>\n",
       "      <td>243925.0</td>\n",
       "      <td>1</td>\n",
       "      <td>1</td>\n",
       "      <td>phd</td>\n",
       "      <td>...</td>\n",
       "      <td>36</td>\n",
       "      <td>0</td>\n",
       "      <td>18000</td>\n",
       "      <td>suv</td>\n",
       "      <td>0</td>\n",
       "      <td>19217</td>\n",
       "      <td>2</td>\n",
       "      <td>1</td>\n",
       "      <td>17.0</td>\n",
       "      <td>1</td>\n",
       "    </tr>\n",
       "    <tr>\n",
       "      <th>5</th>\n",
       "      <td>1</td>\n",
       "      <td>0</td>\n",
       "      <td>34.0</td>\n",
       "      <td>1</td>\n",
       "      <td>125301.0</td>\n",
       "      <td>1</td>\n",
       "      <td>0.0</td>\n",
       "      <td>0</td>\n",
       "      <td>1</td>\n",
       "      <td>bachelors</td>\n",
       "      <td>...</td>\n",
       "      <td>46</td>\n",
       "      <td>1</td>\n",
       "      <td>17430</td>\n",
       "      <td>sports_car</td>\n",
       "      <td>0</td>\n",
       "      <td>0</td>\n",
       "      <td>0</td>\n",
       "      <td>0</td>\n",
       "      <td>7.0</td>\n",
       "      <td>1</td>\n",
       "    </tr>\n",
       "  </tbody>\n",
       "</table>\n",
       "<p>5 rows × 21 columns</p>\n",
       "</div>"
      ],
      "text/plain": [
       "   target_flag  num_kids_driving   age  num_kids_home    income  \\\n",
       "0            0                 0  60.0              0   67349.0   \n",
       "1            0                 0  43.0              0   91449.0   \n",
       "2            0                 0  35.0              1   16039.0   \n",
       "4            0                 0  50.0              0  114986.0   \n",
       "5            1                 0  34.0              1  125301.0   \n",
       "\n",
       "   is_single_parent  home_value  is_married  is_female    education  ...  \\\n",
       "0                 0         0.0           0          0          phd  ...   \n",
       "1                 0    257252.0           0          0  high_school  ...   \n",
       "2                 0    124191.0           1          1  high_school  ...   \n",
       "4                 0    243925.0           1          1          phd  ...   \n",
       "5                 1         0.0           0          1    bachelors  ...   \n",
       "\n",
       "  travel_time  for_commercial_use  bluebook_value    car_type is_red_car  \\\n",
       "0          14                   0           14230     minivan          1   \n",
       "1          22                   1           14940     minivan          1   \n",
       "2           5                   0            4010         suv          0   \n",
       "4          36                   0           18000         suv          0   \n",
       "5          46                   1           17430  sports_car          0   \n",
       "\n",
       "   last_claim_value  claim_frequency  was_revoked  car_age  is_urban  \n",
       "0              4461                2            0     18.0         1  \n",
       "1                 0                0            0      1.0         1  \n",
       "2             38690                2            0     10.0         1  \n",
       "4             19217                2            1     17.0         1  \n",
       "5                 0                0            0      7.0         1  \n",
       "\n",
       "[5 rows x 21 columns]"
      ]
     },
     "execution_count": 6,
     "metadata": {},
     "output_type": "execute_result"
    }
   ],
   "source": [
    "# Display the first five rows of the train set to get a feel for the clean data.\n",
    "train_data.data.head()"
   ]
  },
  {
   "cell_type": "markdown",
   "metadata": {},
   "source": [
    "### 2. Feature Engineering"
   ]
  },
  {
   "cell_type": "markdown",
   "metadata": {},
   "source": [
    "Feature engineering is an important part of the machine learning pipeline as, in many cases, the models one uses are only as good as the features one puts into them. To manage this process, I wrote the ```FeatureEngineerer``` class, which automatically one-hot encodes all the non-numerical categorical variables upon being called. It also avails the user of several other public functions that create new interaction terms or take the log transformation of variables already present in the data set."
   ]
  },
  {
   "cell_type": "code",
   "execution_count": 7,
   "metadata": {},
   "outputs": [],
   "source": [
    "# Instantiate a FeatureEngineerer object for the test and train sets.\n",
    "test_engineerer: FeatureEngineerer = FeatureEngineerer(data=test_data.data)\n",
    "train_engineerer: FeatureEngineerer = FeatureEngineerer(data=train_data.data)"
   ]
  },
  {
   "cell_type": "code",
   "execution_count": 8,
   "metadata": {},
   "outputs": [],
   "source": [
    "# Call the test and train sets FeatureEngineerer objects. This one-hot encodes\n",
    "# the non-numerical categorical variables.\n",
    "test_engineerer()\n",
    "train_engineerer()"
   ]
  },
  {
   "cell_type": "markdown",
   "metadata": {},
   "source": [
    "Given my background in economics, I know that one possible route to follow when engineering new features is to create interaction terms. We need to first identify the variables in the data set whose interaction is highly correlated. This correlation can be either positive or negative. One way of visualizing the correlation I just described is with a heat map, and I have plotted one below. It suffices to only analyze either above or below the dark blue diagonal as the map is symmetric. Although many relationships stick out, I am going to focus on those that relate non-car characteristics to car characterisitcs given the context of the problem. These relationships are:\n",
    "- Being female and having an SUV,\n",
    "- Being female and having a red car, and\n",
    "- Having a high school education and a car's age."
   ]
  },
  {
   "cell_type": "code",
   "execution_count": 9,
   "metadata": {},
   "outputs": [
    {
     "data": {
      "image/png": "[encoded data removed]",
      "text/plain": [
       "<Figure size 720x576 with 2 Axes>"
      ]
     },
     "metadata": {
      "needs_background": "light"
     },
     "output_type": "display_data"
    }
   ],
   "source": [
    "# Plot heat map to show correlation between explanatory variables.\n",
    "sns.heatmap(data=train_engineerer.data.corr(), cmap=\"RdBu\", center=0)\n",
    "plt.show()"
   ]
  },
  {
   "cell_type": "code",
   "execution_count": 10,
   "metadata": {},
   "outputs": [],
   "source": [
    "# Add the interaction variables mentioned above to the test and train sets.\n",
    "test_engineerer.get_interaction_terms()\n",
    "train_engineerer.get_interaction_terms()"
   ]
  },
  {
   "cell_type": "code",
   "execution_count": 11,
   "metadata": {},
   "outputs": [
    {
     "data": {
      "text/html": [
       "<div>\n",
       "<style scoped>\n",
       "    .dataframe tbody tr th:only-of-type {\n",
       "        vertical-align: middle;\n",
       "    }\n",
       "\n",
       "    .dataframe tbody tr th {\n",
       "        vertical-align: top;\n",
       "    }\n",
       "\n",
       "    .dataframe thead th {\n",
       "        text-align: right;\n",
       "    }\n",
       "</style>\n",
       "<table border=\"1\" class=\"dataframe\">\n",
       "  <thead>\n",
       "    <tr style=\"text-align: right;\">\n",
       "      <th></th>\n",
       "      <th>target_flag</th>\n",
       "      <th>num_kids_driving</th>\n",
       "      <th>age</th>\n",
       "      <th>num_kids_home</th>\n",
       "      <th>income</th>\n",
       "      <th>is_single_parent</th>\n",
       "      <th>home_value</th>\n",
       "      <th>is_married</th>\n",
       "      <th>is_female</th>\n",
       "      <th>travel_time</th>\n",
       "      <th>...</th>\n",
       "      <th>job_student</th>\n",
       "      <th>car_type_minivan</th>\n",
       "      <th>car_type_panel_truck</th>\n",
       "      <th>car_type_pickup</th>\n",
       "      <th>car_type_sports_car</th>\n",
       "      <th>car_type_suv</th>\n",
       "      <th>car_type_van</th>\n",
       "      <th>female_suv</th>\n",
       "      <th>female_red_car</th>\n",
       "      <th>high_school_car_age</th>\n",
       "    </tr>\n",
       "  </thead>\n",
       "  <tbody>\n",
       "    <tr>\n",
       "      <th>0</th>\n",
       "      <td>0</td>\n",
       "      <td>0</td>\n",
       "      <td>60.0</td>\n",
       "      <td>0</td>\n",
       "      <td>67349.0</td>\n",
       "      <td>0</td>\n",
       "      <td>0.0</td>\n",
       "      <td>0</td>\n",
       "      <td>0</td>\n",
       "      <td>14</td>\n",
       "      <td>...</td>\n",
       "      <td>0</td>\n",
       "      <td>1</td>\n",
       "      <td>0</td>\n",
       "      <td>0</td>\n",
       "      <td>0</td>\n",
       "      <td>0</td>\n",
       "      <td>0</td>\n",
       "      <td>0</td>\n",
       "      <td>0</td>\n",
       "      <td>0.0</td>\n",
       "    </tr>\n",
       "    <tr>\n",
       "      <th>1</th>\n",
       "      <td>0</td>\n",
       "      <td>0</td>\n",
       "      <td>43.0</td>\n",
       "      <td>0</td>\n",
       "      <td>91449.0</td>\n",
       "      <td>0</td>\n",
       "      <td>257252.0</td>\n",
       "      <td>0</td>\n",
       "      <td>0</td>\n",
       "      <td>22</td>\n",
       "      <td>...</td>\n",
       "      <td>0</td>\n",
       "      <td>1</td>\n",
       "      <td>0</td>\n",
       "      <td>0</td>\n",
       "      <td>0</td>\n",
       "      <td>0</td>\n",
       "      <td>0</td>\n",
       "      <td>0</td>\n",
       "      <td>0</td>\n",
       "      <td>1.0</td>\n",
       "    </tr>\n",
       "    <tr>\n",
       "      <th>2</th>\n",
       "      <td>0</td>\n",
       "      <td>0</td>\n",
       "      <td>35.0</td>\n",
       "      <td>1</td>\n",
       "      <td>16039.0</td>\n",
       "      <td>0</td>\n",
       "      <td>124191.0</td>\n",
       "      <td>1</td>\n",
       "      <td>1</td>\n",
       "      <td>5</td>\n",
       "      <td>...</td>\n",
       "      <td>0</td>\n",
       "      <td>0</td>\n",
       "      <td>0</td>\n",
       "      <td>0</td>\n",
       "      <td>0</td>\n",
       "      <td>1</td>\n",
       "      <td>0</td>\n",
       "      <td>1</td>\n",
       "      <td>0</td>\n",
       "      <td>10.0</td>\n",
       "    </tr>\n",
       "    <tr>\n",
       "      <th>4</th>\n",
       "      <td>0</td>\n",
       "      <td>0</td>\n",
       "      <td>50.0</td>\n",
       "      <td>0</td>\n",
       "      <td>114986.0</td>\n",
       "      <td>0</td>\n",
       "      <td>243925.0</td>\n",
       "      <td>1</td>\n",
       "      <td>1</td>\n",
       "      <td>36</td>\n",
       "      <td>...</td>\n",
       "      <td>0</td>\n",
       "      <td>0</td>\n",
       "      <td>0</td>\n",
       "      <td>0</td>\n",
       "      <td>0</td>\n",
       "      <td>1</td>\n",
       "      <td>0</td>\n",
       "      <td>1</td>\n",
       "      <td>0</td>\n",
       "      <td>0.0</td>\n",
       "    </tr>\n",
       "    <tr>\n",
       "      <th>5</th>\n",
       "      <td>1</td>\n",
       "      <td>0</td>\n",
       "      <td>34.0</td>\n",
       "      <td>1</td>\n",
       "      <td>125301.0</td>\n",
       "      <td>1</td>\n",
       "      <td>0.0</td>\n",
       "      <td>0</td>\n",
       "      <td>1</td>\n",
       "      <td>46</td>\n",
       "      <td>...</td>\n",
       "      <td>0</td>\n",
       "      <td>0</td>\n",
       "      <td>0</td>\n",
       "      <td>0</td>\n",
       "      <td>1</td>\n",
       "      <td>0</td>\n",
       "      <td>0</td>\n",
       "      <td>0</td>\n",
       "      <td>0</td>\n",
       "      <td>0.0</td>\n",
       "    </tr>\n",
       "  </tbody>\n",
       "</table>\n",
       "<p>5 rows × 39 columns</p>\n",
       "</div>"
      ],
      "text/plain": [
       "   target_flag  num_kids_driving   age  num_kids_home    income  \\\n",
       "0            0                 0  60.0              0   67349.0   \n",
       "1            0                 0  43.0              0   91449.0   \n",
       "2            0                 0  35.0              1   16039.0   \n",
       "4            0                 0  50.0              0  114986.0   \n",
       "5            1                 0  34.0              1  125301.0   \n",
       "\n",
       "   is_single_parent  home_value  is_married  is_female  travel_time  ...  \\\n",
       "0                 0         0.0           0          0           14  ...   \n",
       "1                 0    257252.0           0          0           22  ...   \n",
       "2                 0    124191.0           1          1            5  ...   \n",
       "4                 0    243925.0           1          1           36  ...   \n",
       "5                 1         0.0           0          1           46  ...   \n",
       "\n",
       "   job_student  car_type_minivan  car_type_panel_truck  car_type_pickup  \\\n",
       "0            0                 1                     0                0   \n",
       "1            0                 1                     0                0   \n",
       "2            0                 0                     0                0   \n",
       "4            0                 0                     0                0   \n",
       "5            0                 0                     0                0   \n",
       "\n",
       "   car_type_sports_car  car_type_suv  car_type_van  female_suv  \\\n",
       "0                    0             0             0           0   \n",
       "1                    0             0             0           0   \n",
       "2                    0             1             0           1   \n",
       "4                    0             1             0           1   \n",
       "5                    1             0             0           0   \n",
       "\n",
       "   female_red_car  high_school_car_age  \n",
       "0               0                  0.0  \n",
       "1               0                  1.0  \n",
       "2               0                 10.0  \n",
       "4               0                  0.0  \n",
       "5               0                  0.0  \n",
       "\n",
       "[5 rows x 39 columns]"
      ]
     },
     "execution_count": 11,
     "metadata": {},
     "output_type": "execute_result"
    }
   ],
   "source": [
    "# Display the first five rows of the train set to get a feel for the engineered data.\n",
    "train_engineerer.data.head(5)"
   ]
  },
  {
   "cell_type": "markdown",
   "metadata": {},
   "source": [
    "### 3. Modelling"
   ]
  },
  {
   "cell_type": "markdown",
   "metadata": {},
   "source": [
    "To manage the modelling component of the machine learning pipline, I wrote the ```Modeller``` class, which manages everything to do with modelling the cleaned and feature engineered data. This includes, but is not limited to, getting the target variable, scaling the data if needed, executing select models within a cross-validation framework, computing model performance, plotting feature importances, and saving predictions made on the test set. As the problem at hand is one of binary classification, this class only works with logistic regressions, support vector classifiers, and catboost classifiers."
   ]
  },
  {
   "cell_type": "markdown",
   "metadata": {},
   "source": [
    "Interacting with this class is simple. All one needs to do is instantiate a ```Modeller``` object with the test and train sets as well as with a file path that points to all model configurations. One must also specify which configuration in the file to use (e.g. run_number_1, run_number_2, etc.). Then, all one needs to do is call the object as doing so automatically carries out all the functionalities mentioned above. Importantly, both the feature importance plot and the test set predictions are saved in folders of the appropriate name and are labelled using the run number. This makes testing many different model configurations a breeze! "
   ]
  },
  {
   "cell_type": "markdown",
   "metadata": {},
   "source": [
    "I chose to use the F1 score to compare model performances. The combination of two simplier metrics (precision and recall), the F1 score is the harmonic mean of precision and recall and works better on imbalanced data than, for example, accuracy. We are indeed working with imbalanced data as there are 4,708 target flag values equal to 0 and 1,694 equal to 1 in the final train set. The measure weights precision and recall equally and with thus only achieve a high result when both of its constituent measures are high."
   ]
  },
  {
   "cell_type": "code",
   "execution_count": 12,
   "metadata": {},
   "outputs": [],
   "source": [
    "# Create a DataFrame to store all model performances.\n",
    "df_all_runs: pd.DataFrame = pd.DataFrame(\n",
    "    columns=[\"run_number\", \"model\", \"metric\", \"best_val_score\", \"train_score\"]\n",
    ")"
   ]
  },
  {
   "cell_type": "markdown",
   "metadata": {},
   "source": [
    "##### 3.1 Logistic Regression"
   ]
  },
  {
   "cell_type": "markdown",
   "metadata": {},
   "source": [
    "The first model that I tried is an elastic net (0.5) logistic regression model. The best performing configuration I found for this model yielded a validation score of 0.55 during a 10-fold cross-validation scheme. Unsurprisingly, the boolean value \"is urban\" performs quite well, which is to be expected as urban driving environments are much more complex than rural ones. Strangely though, the model performs worse on the whole train set (i.e. being trained and then tested on the whole train set). Given the increased information available to the model as well as the fact that it is being tested on information it has already seen, one would expect the train F1 score to be higher."
   ]
  },
  {
   "cell_type": "code",
   "execution_count": 13,
   "metadata": {},
   "outputs": [
    {
     "data": {
      "text/html": [
       "<div>\n",
       "<style scoped>\n",
       "    .dataframe tbody tr th:only-of-type {\n",
       "        vertical-align: middle;\n",
       "    }\n",
       "\n",
       "    .dataframe tbody tr th {\n",
       "        vertical-align: top;\n",
       "    }\n",
       "\n",
       "    .dataframe thead th {\n",
       "        text-align: right;\n",
       "    }\n",
       "</style>\n",
       "<table border=\"1\" class=\"dataframe\">\n",
       "  <thead>\n",
       "    <tr style=\"text-align: right;\">\n",
       "      <th></th>\n",
       "      <th>run_number</th>\n",
       "      <th>model</th>\n",
       "      <th>metric</th>\n",
       "      <th>best_val_score</th>\n",
       "      <th>train_score</th>\n",
       "    </tr>\n",
       "  </thead>\n",
       "  <tbody>\n",
       "    <tr>\n",
       "      <th>0</th>\n",
       "      <td>1</td>\n",
       "      <td>logistic_regression</td>\n",
       "      <td>f1</td>\n",
       "      <td>0.552448</td>\n",
       "      <td>0.503085</td>\n",
       "    </tr>\n",
       "  </tbody>\n",
       "</table>\n",
       "</div>"
      ],
      "text/plain": [
       "  run_number                model metric  best_val_score  train_score\n",
       "0          1  logistic_regression     f1        0.552448     0.503085"
      ]
     },
     "execution_count": 13,
     "metadata": {},
     "output_type": "execute_result"
    },
    {
     "data": {
      "image/png": "[encoded data removed]",
      "text/plain": [
       "<Figure size 720x576 with 1 Axes>"
      ]
     },
     "metadata": {
      "needs_background": "light"
     },
     "output_type": "display_data"
    }
   ],
   "source": [
    "# Instantiate a Modeller object.\n",
    "run_1: Modeller = Modeller(\n",
    "    test=test_engineerer.data,\n",
    "    train=train_engineerer.data,\n",
    "    config_path=\"model_configs.yaml\",\n",
    "    entry_point=\"run_number_1\",\n",
    ")\n",
    "\n",
    "# Call the Modeller object and store the model's performance.\n",
    "run_1()\n",
    "df_all_runs = pd.concat(\n",
    "    [df_all_runs, run_1.results], axis=0, ignore_index=True\n",
    ")\n",
    "\n",
    "# Display the model's results.\n",
    "run_1.results"
   ]
  },
  {
   "cell_type": "markdown",
   "metadata": {},
   "source": [
    "##### 3.2 Support Vector Classifier"
   ]
  },
  {
   "cell_type": "markdown",
   "metadata": {},
   "source": [
    "Having tried regularized logistic regression, I moved onto support vector classifiers as doing so would allow me to simply test both linear and no-linear kernels when classifying the data. While non-linear kernels might better classify the data, they are more difficult to clearly explain, which is something to keep in mind as I believe explainability is important when it comes to insurance."
   ]
  },
  {
   "cell_type": "markdown",
   "metadata": {},
   "source": [
    "The first support vector classifier I tried is a regularized linear SVC. The best performing configuration I found for this model yielded a validation score of 0.51 during a 10-fold cross-validation scheme. The \"is urban\" boolean performs well yet again, but this model also exhibits the strange validation-train score dynamic explained above. Its scores are also lower all around, so we are going to move on."
   ]
  },
  {
   "cell_type": "code",
   "execution_count": 14,
   "metadata": {},
   "outputs": [
    {
     "data": {
      "text/html": [
       "<div>\n",
       "<style scoped>\n",
       "    .dataframe tbody tr th:only-of-type {\n",
       "        vertical-align: middle;\n",
       "    }\n",
       "\n",
       "    .dataframe tbody tr th {\n",
       "        vertical-align: top;\n",
       "    }\n",
       "\n",
       "    .dataframe thead th {\n",
       "        text-align: right;\n",
       "    }\n",
       "</style>\n",
       "<table border=\"1\" class=\"dataframe\">\n",
       "  <thead>\n",
       "    <tr style=\"text-align: right;\">\n",
       "      <th></th>\n",
       "      <th>run_number</th>\n",
       "      <th>model</th>\n",
       "      <th>metric</th>\n",
       "      <th>best_val_score</th>\n",
       "      <th>train_score</th>\n",
       "    </tr>\n",
       "  </thead>\n",
       "  <tbody>\n",
       "    <tr>\n",
       "      <th>0</th>\n",
       "      <td>2</td>\n",
       "      <td>svc</td>\n",
       "      <td>f1</td>\n",
       "      <td>0.513619</td>\n",
       "      <td>0.466253</td>\n",
       "    </tr>\n",
       "  </tbody>\n",
       "</table>\n",
       "</div>"
      ],
      "text/plain": [
       "  run_number model metric  best_val_score  train_score\n",
       "0          2   svc     f1        0.513619     0.466253"
      ]
     },
     "execution_count": 14,
     "metadata": {},
     "output_type": "execute_result"
    },
    {
     "data": {
      "image/png": "[encoded data removed]",
      "text/plain": [
       "<Figure size 720x576 with 1 Axes>"
      ]
     },
     "metadata": {
      "needs_background": "light"
     },
     "output_type": "display_data"
    }
   ],
   "source": [
    "# Instantiate a Modeller object.\n",
    "run_2: Modeller = Modeller(\n",
    "    test=test_engineerer.data,\n",
    "    train=train_engineerer.data,\n",
    "    config_path=\"model_configs.yaml\",\n",
    "    entry_point=\"run_number_2\",\n",
    ")\n",
    "\n",
    "# Call the Modeller object and store the model's performance.\n",
    "run_2()\n",
    "df_all_runs = pd.concat(\n",
    "    [df_all_runs, run_2.results], axis=0, ignore_index=True\n",
    ")\n",
    "\n",
    "# Display the model's results.\n",
    "run_2.results"
   ]
  },
  {
   "cell_type": "markdown",
   "metadata": {},
   "source": [
    "The second support vector classifier I tried is a regularized polynomial SVC. The best performing configuration I found for this model yielded a validation score of 0.55 during a 10-fold cross-validation scheme. This model is the first to not exhibit the strange validation-train score dynamic, which is good news. Even if its best validation score is slightly lower than that of the logistic regression, I would still prefer using this one."
   ]
  },
  {
   "cell_type": "code",
   "execution_count": 15,
   "metadata": {},
   "outputs": [
    {
     "data": {
      "text/html": [
       "<div>\n",
       "<style scoped>\n",
       "    .dataframe tbody tr th:only-of-type {\n",
       "        vertical-align: middle;\n",
       "    }\n",
       "\n",
       "    .dataframe tbody tr th {\n",
       "        vertical-align: top;\n",
       "    }\n",
       "\n",
       "    .dataframe thead th {\n",
       "        text-align: right;\n",
       "    }\n",
       "</style>\n",
       "<table border=\"1\" class=\"dataframe\">\n",
       "  <thead>\n",
       "    <tr style=\"text-align: right;\">\n",
       "      <th></th>\n",
       "      <th>run_number</th>\n",
       "      <th>model</th>\n",
       "      <th>metric</th>\n",
       "      <th>best_val_score</th>\n",
       "      <th>train_score</th>\n",
       "    </tr>\n",
       "  </thead>\n",
       "  <tbody>\n",
       "    <tr>\n",
       "      <th>0</th>\n",
       "      <td>3</td>\n",
       "      <td>svc</td>\n",
       "      <td>f1</td>\n",
       "      <td>0.550162</td>\n",
       "      <td>0.762533</td>\n",
       "    </tr>\n",
       "  </tbody>\n",
       "</table>\n",
       "</div>"
      ],
      "text/plain": [
       "  run_number model metric  best_val_score  train_score\n",
       "0          3   svc     f1        0.550162     0.762533"
      ]
     },
     "execution_count": 15,
     "metadata": {},
     "output_type": "execute_result"
    }
   ],
   "source": [
    "# Instantiate a Modeller object.\n",
    "run_3: Modeller = Modeller(\n",
    "    test=test_engineerer.data,\n",
    "    train=train_engineerer.data,\n",
    "    config_path=\"model_configs.yaml\",\n",
    "    entry_point=\"run_number_3\",\n",
    ")\n",
    "\n",
    "# Call the Modeller object and store the model's performance.\n",
    "run_3()\n",
    "df_all_runs = pd.concat(\n",
    "    [df_all_runs, run_3.results], axis=0, ignore_index=True\n",
    ")\n",
    "\n",
    "# Display the model's results.\n",
    "run_3.results"
   ]
  },
  {
   "cell_type": "markdown",
   "metadata": {},
   "source": [
    "The third support vector classifier I tried is a regularized RBF SVC. The best performing configuration I found for this model yielded a validation score of 0.56 during a 10-fold cross-validation scheme. This model also does not exhibit the strange validation-train score dynamic. Moreover, its train F1 score is lower than that of the regularized polynomical SVC (0.66 vs. 0.76). This implies the former generalizes better and is more robust to ovefitting."
   ]
  },
  {
   "cell_type": "code",
   "execution_count": 16,
   "metadata": {},
   "outputs": [
    {
     "data": {
      "text/html": [
       "<div>\n",
       "<style scoped>\n",
       "    .dataframe tbody tr th:only-of-type {\n",
       "        vertical-align: middle;\n",
       "    }\n",
       "\n",
       "    .dataframe tbody tr th {\n",
       "        vertical-align: top;\n",
       "    }\n",
       "\n",
       "    .dataframe thead th {\n",
       "        text-align: right;\n",
       "    }\n",
       "</style>\n",
       "<table border=\"1\" class=\"dataframe\">\n",
       "  <thead>\n",
       "    <tr style=\"text-align: right;\">\n",
       "      <th></th>\n",
       "      <th>run_number</th>\n",
       "      <th>model</th>\n",
       "      <th>metric</th>\n",
       "      <th>best_val_score</th>\n",
       "      <th>train_score</th>\n",
       "    </tr>\n",
       "  </thead>\n",
       "  <tbody>\n",
       "    <tr>\n",
       "      <th>0</th>\n",
       "      <td>4</td>\n",
       "      <td>svc</td>\n",
       "      <td>f1</td>\n",
       "      <td>0.562712</td>\n",
       "      <td>0.66805</td>\n",
       "    </tr>\n",
       "  </tbody>\n",
       "</table>\n",
       "</div>"
      ],
      "text/plain": [
       "  run_number model metric  best_val_score  train_score\n",
       "0          4   svc     f1        0.562712      0.66805"
      ]
     },
     "execution_count": 16,
     "metadata": {},
     "output_type": "execute_result"
    }
   ],
   "source": [
    "# Instantiate a Modeller object.\n",
    "run_4: Modeller = Modeller(\n",
    "    test=test_engineerer.data,\n",
    "    train=train_engineerer.data,\n",
    "    config_path=\"model_configs.yaml\",\n",
    "    entry_point=\"run_number_4\",\n",
    ")\n",
    "\n",
    "# Call the Modeller object and store the model's performance.\n",
    "run_4()\n",
    "df_all_runs = pd.concat(\n",
    "    [df_all_runs, run_4.results], axis=0, ignore_index=True\n",
    ")\n",
    "\n",
    "# Display the model's results.\n",
    "run_4.results"
   ]
  },
  {
   "cell_type": "markdown",
   "metadata": {},
   "source": [
    "##### 3.3 Catboost Classifier"
   ]
  },
  {
   "cell_type": "markdown",
   "metadata": {},
   "source": [
    "For the last model, I wanted to try some sort of boosted tree model, which for most people means using xgboost. I, however, prefer catboost as I find that it produces better results out of the box and is often more accurate even if it takes longer to train. Hence my choice to implement catboost instead. As was the case with non-linear support vector classifiers, the catboost model is more difficult to explain even if it is possible to make a feature importance plot. The best performing configuration I found for this model yielded a validation score of 0.57 during a 10-fold cross-validation scheme."
   ]
  },
  {
   "cell_type": "code",
   "execution_count": 17,
   "metadata": {},
   "outputs": [
    {
     "data": {
      "text/html": [
       "<div>\n",
       "<style scoped>\n",
       "    .dataframe tbody tr th:only-of-type {\n",
       "        vertical-align: middle;\n",
       "    }\n",
       "\n",
       "    .dataframe tbody tr th {\n",
       "        vertical-align: top;\n",
       "    }\n",
       "\n",
       "    .dataframe thead th {\n",
       "        text-align: right;\n",
       "    }\n",
       "</style>\n",
       "<table border=\"1\" class=\"dataframe\">\n",
       "  <thead>\n",
       "    <tr style=\"text-align: right;\">\n",
       "      <th></th>\n",
       "      <th>run_number</th>\n",
       "      <th>model</th>\n",
       "      <th>metric</th>\n",
       "      <th>best_val_score</th>\n",
       "      <th>train_score</th>\n",
       "    </tr>\n",
       "  </thead>\n",
       "  <tbody>\n",
       "    <tr>\n",
       "      <th>0</th>\n",
       "      <td>5</td>\n",
       "      <td>catboost</td>\n",
       "      <td>f1</td>\n",
       "      <td>0.570423</td>\n",
       "      <td>0.785568</td>\n",
       "    </tr>\n",
       "  </tbody>\n",
       "</table>\n",
       "</div>"
      ],
      "text/plain": [
       "  run_number     model metric  best_val_score  train_score\n",
       "0          5  catboost     f1        0.570423     0.785568"
      ]
     },
     "execution_count": 17,
     "metadata": {},
     "output_type": "execute_result"
    },
    {
     "data": {
      "image/png": "[encoded data removed]",
      "text/plain": [
       "<Figure size 720x576 with 1 Axes>"
      ]
     },
     "metadata": {
      "needs_background": "light"
     },
     "output_type": "display_data"
    }
   ],
   "source": [
    "# Instantiate a Modeller object.\n",
    "run_5: Modeller = Modeller(\n",
    "    test=test_engineerer.data,\n",
    "    train=train_engineerer.data,\n",
    "    config_path=\"model_configs.yaml\",\n",
    "    entry_point=\"run_number_5\",\n",
    ")\n",
    "\n",
    "# Call the Modeller object and store the model's performance.\n",
    "run_5()\n",
    "df_all_runs = pd.concat(\n",
    "    [df_all_runs, run_5.results], axis=0, ignore_index=True\n",
    ")\n",
    "\n",
    "# Display the model's results.\n",
    "run_5.results"
   ]
  },
  {
   "cell_type": "markdown",
   "metadata": {},
   "source": [
    "### 4. Conclusions"
   ]
  },
  {
   "cell_type": "markdown",
   "metadata": {},
   "source": [
    "Given each model's respective performance (displayed below), I think I would proceed as follows. First, I would select the catboost classifier model as its validation score is the highest and, unlike the latter two SVC models, we can plot its feature importances for explanability purposes. Next, I would return to the feature engineering stage of the machine learning pipeline. There were several variables I didn't clearly understand and as a result threw out because, in my opinion, it's not just to use information we aren't familiar with and therefore can't explain. It is quite possible that these variables are the most effective when it comes to this machine learning task. In any case, I would improve my understanding of these variables and try to find better ways to engineer them before returning to hyperparameter tuning."
   ]
  },
  {
   "cell_type": "code",
   "execution_count": 18,
   "metadata": {},
   "outputs": [
    {
     "data": {
      "text/html": [
       "<div>\n",
       "<style scoped>\n",
       "    .dataframe tbody tr th:only-of-type {\n",
       "        vertical-align: middle;\n",
       "    }\n",
       "\n",
       "    .dataframe tbody tr th {\n",
       "        vertical-align: top;\n",
       "    }\n",
       "\n",
       "    .dataframe thead th {\n",
       "        text-align: right;\n",
       "    }\n",
       "</style>\n",
       "<table border=\"1\" class=\"dataframe\">\n",
       "  <thead>\n",
       "    <tr style=\"text-align: right;\">\n",
       "      <th></th>\n",
       "      <th>run_number</th>\n",
       "      <th>model</th>\n",
       "      <th>metric</th>\n",
       "      <th>best_val_score</th>\n",
       "      <th>train_score</th>\n",
       "    </tr>\n",
       "  </thead>\n",
       "  <tbody>\n",
       "    <tr>\n",
       "      <th>0</th>\n",
       "      <td>1</td>\n",
       "      <td>logistic_regression</td>\n",
       "      <td>f1</td>\n",
       "      <td>0.552448</td>\n",
       "      <td>0.503085</td>\n",
       "    </tr>\n",
       "    <tr>\n",
       "      <th>1</th>\n",
       "      <td>2</td>\n",
       "      <td>svc</td>\n",
       "      <td>f1</td>\n",
       "      <td>0.513619</td>\n",
       "      <td>0.466253</td>\n",
       "    </tr>\n",
       "    <tr>\n",
       "      <th>2</th>\n",
       "      <td>3</td>\n",
       "      <td>svc</td>\n",
       "      <td>f1</td>\n",
       "      <td>0.550162</td>\n",
       "      <td>0.762533</td>\n",
       "    </tr>\n",
       "    <tr>\n",
       "      <th>3</th>\n",
       "      <td>4</td>\n",
       "      <td>svc</td>\n",
       "      <td>f1</td>\n",
       "      <td>0.562712</td>\n",
       "      <td>0.668050</td>\n",
       "    </tr>\n",
       "    <tr>\n",
       "      <th>4</th>\n",
       "      <td>5</td>\n",
       "      <td>catboost</td>\n",
       "      <td>f1</td>\n",
       "      <td>0.570423</td>\n",
       "      <td>0.785568</td>\n",
       "    </tr>\n",
       "  </tbody>\n",
       "</table>\n",
       "</div>"
      ],
      "text/plain": [
       "  run_number                model metric  best_val_score  train_score\n",
       "0          1  logistic_regression     f1        0.552448     0.503085\n",
       "1          2                  svc     f1        0.513619     0.466253\n",
       "2          3                  svc     f1        0.550162     0.762533\n",
       "3          4                  svc     f1        0.562712     0.668050\n",
       "4          5             catboost     f1        0.570423     0.785568"
      ]
     },
     "execution_count": 18,
     "metadata": {},
     "output_type": "execute_result"
    }
   ],
   "source": [
    "# Display performance of all models.\n",
    "df_all_runs.head()"
   ]
  }
 ],
 "metadata": {
  "kernelspec": {
   "display_name": "Python 3.9.7 ('base')",
   "language": "python",
   "name": "python3"
  },
  "language_info": {
   "codemirror_mode": {
    "name": "ipython",
    "version": 3
   },
   "file_extension": ".py",
   "mimetype": "text/x-python",
   "name": "python",
   "nbconvert_exporter": "python",
   "pygments_lexer": "ipython3",
   "version": "3.9.7"
  },
  "orig_nbformat": 4,
  "vscode": {
   "interpreter": {
    "hash": "4177e6422a28ae088e58e7c395a0ac7473bd03d47c744274a87f82503b9a6344"
   }
  }
 },
 "nbformat": 4,
 "nbformat_minor": 2
}
