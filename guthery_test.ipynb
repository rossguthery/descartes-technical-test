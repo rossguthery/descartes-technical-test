{
 "cells": [
  {
   "cell_type": "code",
   "execution_count": 1,
   "metadata": {},
   "outputs": [],
   "source": [
    "import numpy as np\n",
    "import pandas as pd\n",
    "from toolbox import Data"
   ]
  },
  {
   "cell_type": "code",
   "execution_count": 2,
   "metadata": {},
   "outputs": [],
   "source": [
    "train_data: Data = Data(\n",
    "    file_path=\"data/train_auto.csv\", index_col=0,\n",
    ")\n",
    "train_data()"
   ]
  },
  {
   "cell_type": "code",
   "execution_count": 62,
   "metadata": {},
   "outputs": [],
   "source": [
    "train_data.data = (\n",
    "    train_data.data\n",
    "        .assign(\n",
    "            # Clean up string columns.\n",
    "            education = lambda df: df.education.replace(\n",
    "                {\"z_\": \"\", \"<\": \"\"}, regex=True\n",
    "            ),\n",
    "            job = lambda df: df.job.replace({\"z_\": \"\"}, regex=True),\n",
    "            car_type = lambda df: df.car_type.replace({\"z_\": \"\"}, regex=True),\n",
    "\n",
    "\n",
    "            # Convert monetary columns to numeric ones.\n",
    "            income = lambda df: pd.to_numeric(\n",
    "                df.income.replace({\"\\$\": \"\", \",\": \"\"}, regex=True),\n",
    "                errors=\"coerce\",\n",
    "            ),\n",
    "            home_value = lambda df: pd.to_numeric(\n",
    "                df.home_value.replace({\"\\$\": \"\", \",\": \"\"}, regex=True),\n",
    "                errors=\"coerce\",\n",
    "            ),\n",
    "            bluebook_value = lambda df: pd.to_numeric(\n",
    "                df.bluebook_value.replace({\"\\$\": \"\", \",\": \"\"}, regex=True),\n",
    "                errors=\"coerce\",\n",
    "            ),\n",
    "            last_claim_value = lambda df: pd.to_numeric(\n",
    "                df.last_claim_value.replace({\"\\$\": \"\", \",\": \"\"}, regex=True),\n",
    "                errors=\"coerce\",\n",
    "            ),\n",
    "\n",
    "            # Convert columns meant to be dummy columns into true dummy columns.\n",
    "            is_female = lambda df: pd.to_numeric(\n",
    "                df.is_female.replace({\"z_F\": \"1\", \"M\": \"0\"}, regex=True),\n",
    "                errors=\"coerce\",\n",
    "            ),\n",
    "            is_red_car = lambda df: pd.to_numeric(\n",
    "                df.is_red_car.replace({\"yes\": \"1\", \"no\": \"0\"}, regex=True),\n",
    "                errors=\"coerce\",\n",
    "            ),\n",
    "            was_revoked = lambda df: pd.to_numeric(\n",
    "                df.was_revoked.replace({\"Yes\": \"1\", \"No\": \"0\"}, regex=True),\n",
    "                errors=\"coerce\",\n",
    "            ),\n",
    "            is_married = lambda df: pd.to_numeric(\n",
    "                df.is_married.replace({\"Yes\": \"1\", \"z_No\": \"0\"}, regex=True),\n",
    "                errors=\"coerce\",\n",
    "            ),\n",
    "            is_single_parent = lambda df: pd.to_numeric(\n",
    "                df.is_single_parent.replace({\"Yes\": \"1\", \"No\": \"0\"}, regex=True),\n",
    "                errors=\"coerce\",\n",
    "            ),\n",
    "        )\n",
    ")"
   ]
  },
  {
   "cell_type": "code",
   "execution_count": 63,
   "metadata": {},
   "outputs": [],
   "source": [
    "# Removes Nulls.\n",
    "# - age\n",
    "# - income\n",
    "# - home value\n",
    "# - job"
   ]
  },
  {
   "cell_type": "code",
   "execution_count": 64,
   "metadata": {},
   "outputs": [
    {
     "data": {
      "text/plain": [
       "target_flag             int64\n",
       "num_kids_driving        int64\n",
       "age                   float64\n",
       "num_kids_home           int64\n",
       "income                float64\n",
       "is_single_parent        int64\n",
       "home_value            float64\n",
       "is_married              int64\n",
       "is_female               int64\n",
       "education              object\n",
       "job                    object\n",
       "travel_time             int64\n",
       "for_commercial_use     object\n",
       "bluebook_value          int64\n",
       "car_type               object\n",
       "is_red_car              int64\n",
       "last_claim_value        int64\n",
       "claim_frequency         int64\n",
       "was_revoked            object\n",
       "car_age               float64\n",
       "is_urban               object\n",
       "dtype: object"
      ]
     },
     "execution_count": 64,
     "metadata": {},
     "output_type": "execute_result"
    }
   ],
   "source": [
    "train_data.data.dtypes"
   ]
  },
  {
   "cell_type": "code",
   "execution_count": 69,
   "metadata": {},
   "outputs": [
    {
     "data": {
      "text/plain": [
       "No     7161\n",
       "Yes    1000\n",
       "Name: was_revoked, dtype: int64"
      ]
     },
     "execution_count": 69,
     "metadata": {},
     "output_type": "execute_result"
    }
   ],
   "source": [
    "# ONE BIG LOOP OVER ALL COLUMNS:\n",
    "# - Drop if we don't know what it means or can't use it.\n",
    "# - Removes _z and $\n",
    "# - Converts to correct data type.\n",
    "\n",
    "train_data.data.was_revoked.value_counts()"
   ]
  },
  {
   "cell_type": "code",
   "execution_count": 70,
   "metadata": {},
   "outputs": [
    {
     "data": {
      "text/plain": [
       "0"
      ]
     },
     "execution_count": 70,
     "metadata": {},
     "output_type": "execute_result"
    }
   ],
   "source": [
    "train_data.data.was_revoked.isnull().sum()"
   ]
  },
  {
   "cell_type": "code",
   "execution_count": null,
   "metadata": {},
   "outputs": [],
   "source": []
  }
 ],
 "metadata": {
  "kernelspec": {
   "display_name": "Python 3.10.6 ('descartes')",
   "language": "python",
   "name": "python3"
  },
  "language_info": {
   "codemirror_mode": {
    "name": "ipython",
    "version": 3
   },
   "file_extension": ".py",
   "mimetype": "text/x-python",
   "name": "python",
   "nbconvert_exporter": "python",
   "pygments_lexer": "ipython3",
   "version": "3.10.6"
  },
  "orig_nbformat": 4,
  "vscode": {
   "interpreter": {
    "hash": "34aa357d976374899b0c773fb244c64a1c70cea42564e5b7871de96669b041ca"
   }
  }
 },
 "nbformat": 4,
 "nbformat_minor": 2
}
